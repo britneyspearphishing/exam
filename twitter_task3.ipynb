{
 "cells": [
  {
   "cell_type": "code",
   "execution_count": 2,
   "metadata": {},
   "outputs": [],
   "source": [
    "# install the python driver as decribed here https://neo4j.com/docs/api/python-driver/current/\n",
    "# make sure that the Neo4j server is running and the twitter graph exists with correct credentials\n",
    "# - start Neo4j Desktop\n",
    "# - start the DBMS"
   ]
  },
  {
   "cell_type": "code",
   "execution_count": 3,
   "metadata": {},
   "outputs": [],
   "source": [
    "from neo4j import GraphDatabase"
   ]
  },
  {
   "cell_type": "code",
   "execution_count": 4,
   "metadata": {},
   "outputs": [],
   "source": [
    "neo4j_uri = \"bolt://localhost:7687\"\n",
    "neo4j_user = \"neo4j\"\n",
    "neo4j_password = \"neo4jtwitter\"\n",
    "neo4j_driver = GraphDatabase.driver(neo4j_uri, auth=(neo4j_user, neo4j_password))"
   ]
  },
  {
   "cell_type": "code",
   "execution_count": 5,
   "metadata": {},
   "outputs": [
    {
     "name": "stdout",
     "output_type": "stream",
     "text": [
      "neo4j 34506\n",
      "nawroth 1\n",
      "rabb_i 1\n",
      "jimwebber 1\n",
      "mesirii 1\n",
      "technige 1\n",
      "ChrisDiehl 1\n",
      "emileifrem 1\n",
      "dsuvee 1\n",
      "structr 1\n"
     ]
    }
   ],
   "source": [
    "# which users have the most followers\n",
    "with neo4j_driver.session() as session:\n",
    "    query = \"MATCH (follower:User)-[:FOLLOWS]->(targetUser:User) \" + \\\n",
    "            \"RETURN targetUser.screen_name AS User, COUNT(distinct follower) AS Followers \" +\\\n",
    "            \"ORDER BY Followers DESC LIMIT 10\"\n",
    "    result = session.run(query)\n",
    "    for r in result:\n",
    "        print(r[\"User\"], r[\"Followers\"])"
   ]
  },
  {
   "cell_type": "code",
   "execution_count": 6,
   "metadata": {},
   "outputs": [
    {
     "name": "stdout",
     "output_type": "stream",
     "text": [
      "neo4j 1199\n",
      "danielcfng 34\n",
      "mesirii 31\n",
      "JAdP 21\n",
      "rotnroll666 19\n",
      "salhaj 16\n",
      "fbiville 16\n",
      "BigDataMagazin 15\n",
      "branarakic 15\n",
      "ikwattro 14\n"
     ]
    }
   ],
   "source": [
    "# which users sent the most tweets\n",
    "with neo4j_driver.session() as session:\n",
    "    query = \"MATCH (u:User)-[:POSTS]->(tweet:Tweet) \" + \\\n",
    "            \"RETURN u.screen_name AS User, COUNT(tweet) AS Tweets \" +\\\n",
    "            \"ORDER BY Tweets DESC LIMIT 10\"\n",
    "    result = session.run(query)\n",
    "    for r in result:\n",
    "        print(r[\"User\"], r[\"Tweets\"])"
   ]
  },
  {
   "cell_type": "code",
   "execution_count": 7,
   "metadata": {},
   "outputs": [
    {
     "name": "stdout",
     "output_type": "stream",
     "text": [
      "<Node element_id='4:237ad43d-9c45-4107-93a1-1c42be842141:117' labels=frozenset({'Tweet'}) properties={'id': 1371756686407577611}> 1\n"
     ]
    }
   ],
   "source": [
    "# which tweet has been forwarded most often\n",
    "with neo4j_driver.session() as session:\n",
    "    query = \"MATCH (retweet:Tweet)-[r:RETWEETS]->(tweet:Tweet) \" + \\\n",
    "            \"RETURN tweet, COUNT(retweet) AS Retweets \" + \\\n",
    "            \"ORDER BY Retweets DESC LIMIT 1\"\n",
    "    result = session.run(query)\n",
    "    for r in result:\n",
    "        print(r[\"tweet\"], r[\"Retweets\"])"
   ]
  },
  {
   "cell_type": "code",
   "execution_count": 8,
   "metadata": {},
   "outputs": [
    {
     "name": "stdout",
     "output_type": "stream",
     "text": [
      "1370995116886913024 AlessandroNegro 1\n"
     ]
    }
   ],
   "source": [
    "# which tweet by whom has been forwarded most often\n",
    "with neo4j_driver.session() as session:\n",
    "    query = \"MATCH (retweet:Tweet)-[r:RETWEETS]->(tweet:Tweet)<-[:POSTS]-(sender:User) \" + \\\n",
    "            \"RETURN sender.screen_name AS User, tweet.id AS TweetID, COUNT(retweet) AS Retweets \" + \\\n",
    "            \"ORDER BY Retweets DESC LIMIT 1\"\n",
    "    result = session.run(query)\n",
    "    for r in result:\n",
    "        print(r[\"TweetID\"], r[\"User\"], r[\"Retweets\"])"
   ]
  },
  {
   "cell_type": "code",
   "execution_count": null,
   "metadata": {},
   "outputs": [],
   "source": []
  }
 ],
 "metadata": {
  "kernelspec": {
   "display_name": "Python 3",
   "language": "python",
   "name": "python3"
  },
  "language_info": {
   "codemirror_mode": {
    "name": "ipython",
    "version": 3
   },
   "file_extension": ".py",
   "mimetype": "text/x-python",
   "name": "python",
   "nbconvert_exporter": "python",
   "pygments_lexer": "ipython3",
   "version": "3.9.16"
  }
 },
 "nbformat": 4,
 "nbformat_minor": 2
}
