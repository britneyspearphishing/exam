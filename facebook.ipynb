{
 "cells": [
  {
   "cell_type": "markdown",
   "metadata": {},
   "source": [
    " # Configuration"
   ]
  },
  {
   "cell_type": "code",
   "execution_count": 13,
   "metadata": {},
   "outputs": [],
   "source": [
    "# automatic download of graphframes, if requried\n",
    "# see https://spark-packages.org/package/graphframes/graphframes\n",
    "import os\n",
    "os.environ['PYSPARK_SUBMIT_ARGS'] = '--packages graphframes:graphframes:0.8.2-spark3.2-s_2.12 pyspark-shell'"
   ]
  },
  {
   "cell_type": "code",
   "execution_count": 14,
   "metadata": {},
   "outputs": [],
   "source": [
    "import pyspark\n",
    "from pyspark.sql import SparkSession \n",
    "spark = SparkSession.builder \\\n",
    "            .master(\"local[4]\") \\\n",
    "            .appName(\"facebook\") \\\n",
    "            .getOrCreate() "
   ]
  },
  {
   "cell_type": "code",
   "execution_count": 15,
   "metadata": {},
   "outputs": [],
   "source": [
    "# make sure to create this dir first\n",
    "spark.sparkContext.setCheckpointDir('/home/sarah/spark/_checkpoints')"
   ]
  },
  {
   "cell_type": "code",
   "execution_count": 16,
   "metadata": {},
   "outputs": [],
   "source": [
    "from graphframes import GraphFrame"
   ]
  },
  {
   "cell_type": "markdown",
   "metadata": {},
   "source": [
    "# Read Graph from File\n",
    "## Create Edges DF \n",
    "With columns from source to destination containing the IDs of source and destination vertices + other columns for edge attributes (optional)"
   ]
  },
  {
   "cell_type": "code",
   "execution_count": 17,
   "metadata": {},
   "outputs": [
    {
     "name": "stdout",
     "output_type": "stream",
     "text": [
      "root\n",
      " |-- src: string (nullable = true)\n",
      " |-- dst: string (nullable = true)\n",
      "\n",
      "Row(src='236', dst='186')\n",
      "Row(src='122', dst='285')\n",
      "Row(src='24', dst='346')\n",
      "Row(src='271', dst='304')\n",
      "Row(src='176', dst='9')\n",
      "5038\n"
     ]
    }
   ],
   "source": [
    "edgesDF = spark.read.csv(\"/home/sarah/spark/Documents/facebook/0.edges\", header=False, sep=' ')\n",
    "edgesDF = edgesDF.withColumnRenamed(\"_c0\", \"src\")\n",
    "edgesDF = edgesDF.withColumnRenamed(\"_c1\", \"dst\")\n",
    "edgesDF.printSchema()\n",
    "\n",
    "rows = edgesDF.take(5)\n",
    "for row in rows:\n",
    "    print(row)\n",
    "\n",
    "print(edgesDF.count())"
   ]
  },
  {
   "cell_type": "markdown",
   "metadata": {},
   "source": [
    "## Create Vertices DF"
   ]
  },
  {
   "cell_type": "code",
   "execution_count": 18,
   "metadata": {},
   "outputs": [
    {
     "name": "stdout",
     "output_type": "stream",
     "text": [
      "Row(id='296')\n",
      "Row(id='125')\n",
      "Row(id='7')\n",
      "Row(id='124')\n",
      "Row(id='51')\n",
      "root\n",
      " |-- id: string (nullable = true)\n",
      "\n"
     ]
    },
    {
     "name": "stdout",
     "output_type": "stream",
     "text": [
      "333\n"
     ]
    }
   ],
   "source": [
    "verticesDF = edgesDF.select('src').union(edgesDF.select('dst')).distinct()\n",
    "verticesDF = verticesDF.withColumnRenamed('src','id')\n",
    "\n",
    "rows = verticesDF.take(5)\n",
    "for row in rows:\n",
    "    print(row)\n",
    "\n",
    "\n",
    "verticesDF.printSchema()\n",
    "print(verticesDF.count())"
   ]
  },
  {
   "cell_type": "markdown",
   "metadata": {},
   "source": [
    "# Create Graph (object of 2 data frames - verticesDF, edgesDF)"
   ]
  },
  {
   "cell_type": "markdown",
   "metadata": {},
   "source": [
    "Graph Frames can be queried via\n",
    "\n",
    "- graph patterns (motif)\n",
    "- extraction of subgraphs via edge and/or vertex filters and/or motifs"
   ]
  },
  {
   "cell_type": "code",
   "execution_count": 19,
   "metadata": {},
   "outputs": [
    {
     "name": "stdout",
     "output_type": "stream",
     "text": [
      "graph with 333 vertices and 5038 edges\n"
     ]
    }
   ],
   "source": [
    "gf = GraphFrame(verticesDF, edgesDF)\n",
    "print(\"graph with\",gf.vertices.count(),\"vertices and\",gf.edges.count(),\"edges\")"
   ]
  },
  {
   "cell_type": "markdown",
   "metadata": {},
   "source": [
    "# Disconnected Social Groups (Connected Components)"
   ]
  },
  {
   "cell_type": "markdown",
   "metadata": {},
   "source": [
    "1. Find all distinct connected components\n",
    "2. If there are more than one we "
   ]
  },
  {
   "cell_type": "code",
   "execution_count": 20,
   "metadata": {},
   "outputs": [
    {
     "name": "stderr",
     "output_type": "stream",
     "text": [
      "23/07/10 21:47:02 WARN CacheManager: Asked to cache already cached data.\n",
      "23/07/10 21:47:03 WARN CacheManager: Asked to cache already cached data.\n",
      "23/07/10 21:47:04 WARN CacheManager: Asked to cache already cached data.        \n",
      "23/07/10 21:47:05 WARN CacheManager: Asked to cache already cached data.\n",
      "23/07/10 21:47:05 WARN CacheManager: Asked to cache already cached data.\n",
      "23/07/10 21:47:06 WARN CacheManager: Asked to cache already cached data.        \n",
      "23/07/10 21:47:07 WARN CacheManager: Asked to cache already cached data.        \n",
      "23/07/10 21:47:08 WARN CacheManager: Asked to cache already cached data.        \n",
      "23/07/10 21:47:08 WARN CacheManager: Asked to cache already cached data.\n",
      "                                                                                \r"
     ]
    },
    {
     "name": "stdout",
     "output_type": "stream",
     "text": [
      "+------------+\n",
      "|   component|\n",
      "+------------+\n",
      "|           0|\n",
      "|678604832769|\n",
      "|128849018881|\n",
      "| 60129542146|\n",
      "|377957122048|\n",
      "+------------+\n",
      "\n"
     ]
    }
   ],
   "source": [
    "cc = gf.connectedComponents()\n",
    "cc = cc.select('component').distinct()\n",
    "cc.show()"
   ]
  },
  {
   "cell_type": "markdown",
   "metadata": {},
   "source": [
    "## Closed relationships or connections between three individuals.\n",
    "\n",
    "The 'id' column represents the vertex ID in the graph.\n",
    "The 'count' column represents the number of triangles that the corresponding vertex is involved in."
   ]
  },
  {
   "cell_type": "code",
   "execution_count": 21,
   "metadata": {},
   "outputs": [
    {
     "name": "stderr",
     "output_type": "stream",
     "text": [
      "                                                                                \r"
     ]
    },
    {
     "name": "stdout",
     "output_type": "stream",
     "text": [
      "+-----+---+\n",
      "|count| id|\n",
      "+-----+---+\n",
      "|   14|296|\n",
      "|    1|125|\n",
      "|   63|  7|\n",
      "|    0|124|\n",
      "|   12| 51|\n",
      "|    1|307|\n",
      "|  272|169|\n",
      "|  166|334|\n",
      "|    0|205|\n",
      "|  306|272|\n",
      "|  162|232|\n",
      "|    9| 54|\n",
      "|    0|282|\n",
      "|    0|234|\n",
      "|    0|155|\n",
      "|    5|317|\n",
      "|   33|132|\n",
      "|    0|154|\n",
      "|  637|200|\n",
      "|  124|101|\n",
      "+-----+---+\n",
      "only showing top 20 rows\n",
      "\n"
     ]
    }
   ],
   "source": [
    "triangle_count = gf.triangleCount()\n",
    "triangle_count.show() # Display the triangle count DataFrame"
   ]
  },
  {
   "cell_type": "markdown",
   "metadata": {},
   "source": [
    "# Person with the Most Direct Friends (Degree)"
   ]
  },
  {
   "cell_type": "code",
   "execution_count": 22,
   "metadata": {},
   "outputs": [
    {
     "name": "stdout",
     "output_type": "stream",
     "text": [
      "+---+--------+\n",
      "| id|inDegree|\n",
      "+---+--------+\n",
      "| 56|      77|\n",
      "| 67|      75|\n",
      "|271|      72|\n",
      "|322|      71|\n",
      "| 25|      68|\n",
      "| 26|      67|\n",
      "|252|      64|\n",
      "| 21|      64|\n",
      "|277|      64|\n",
      "|122|      62|\n",
      "|119|      61|\n",
      "|239|      58|\n",
      "|200|      56|\n",
      "|  9|      56|\n",
      "|203|      56|\n",
      "|315|      55|\n",
      "|304|      54|\n",
      "| 98|      48|\n",
      "|188|      47|\n",
      "|285|      46|\n",
      "+---+--------+\n",
      "only showing top 20 rows\n",
      "\n"
     ]
    }
   ],
   "source": [
    "gf.inDegrees.sort(\"inDegree\", ascending=False).show()"
   ]
  },
  {
   "cell_type": "markdown",
   "metadata": {},
   "source": [
    "# Person with the Most Indirect Friends"
   ]
  },
  {
   "cell_type": "code",
   "execution_count": 23,
   "metadata": {},
   "outputs": [
    {
     "ename": "ParseException",
     "evalue": "\nmismatched input '<EOF>' expecting {'(', 'ADD', 'AFTER', 'ALL', 'ALTER', 'ANALYZE', 'AND', 'ANTI', 'ANY', 'ARCHIVE', 'ARRAY', 'AS', 'ASC', 'AT', 'AUTHORIZATION', 'BETWEEN', 'BOTH', 'BUCKET', 'BUCKETS', 'BY', 'CACHE', 'CASCADE', 'CASE', 'CAST', 'CHANGE', 'CHECK', 'CLEAR', 'CLUSTER', 'CLUSTERED', 'CODEGEN', 'COLLATE', 'COLLECTION', 'COLUMN', 'COLUMNS', 'COMMENT', 'COMMIT', 'COMPACT', 'COMPACTIONS', 'COMPUTE', 'CONCATENATE', 'CONSTRAINT', 'COST', 'CREATE', 'CROSS', 'CUBE', 'CURRENT', 'CURRENT_DATE', 'CURRENT_TIME', 'CURRENT_TIMESTAMP', 'CURRENT_USER', 'DAY', 'DATA', 'DATABASE', DATABASES, 'DBPROPERTIES', 'DEFINED', 'DELETE', 'DELIMITED', 'DESC', 'DESCRIBE', 'DFS', 'DIRECTORIES', 'DIRECTORY', 'DISTINCT', 'DISTRIBUTE', 'DIV', 'DROP', 'ELSE', 'END', 'ESCAPE', 'ESCAPED', 'EXCEPT', 'EXCHANGE', 'EXISTS', 'EXPLAIN', 'EXPORT', 'EXTENDED', 'EXTERNAL', 'EXTRACT', 'FALSE', 'FETCH', 'FIELDS', 'FILTER', 'FILEFORMAT', 'FIRST', 'FOLLOWING', 'FOR', 'FOREIGN', 'FORMAT', 'FORMATTED', 'FROM', 'FULL', 'FUNCTION', 'FUNCTIONS', 'GLOBAL', 'GRANT', 'GROUP', 'GROUPING', 'HAVING', 'HOUR', 'IF', 'IGNORE', 'IMPORT', 'IN', 'INDEX', 'INDEXES', 'INNER', 'INPATH', 'INPUTFORMAT', 'INSERT', 'INTERSECT', 'INTERVAL', 'INTO', 'IS', 'ITEMS', 'JOIN', 'KEYS', 'LAST', 'LATERAL', 'LAZY', 'LEADING', 'LEFT', 'LIKE', 'LIMIT', 'LINES', 'LIST', 'LOAD', 'LOCAL', 'LOCATION', 'LOCK', 'LOCKS', 'LOGICAL', 'MACRO', 'MAP', 'MATCHED', 'MERGE', 'MINUTE', 'MONTH', 'MSCK', 'NAMESPACE', 'NAMESPACES', 'NATURAL', 'NO', NOT, 'NULL', 'NULLS', 'OF', 'ON', 'ONLY', 'OPTION', 'OPTIONS', 'OR', 'ORDER', 'OUT', 'OUTER', 'OUTPUTFORMAT', 'OVER', 'OVERLAPS', 'OVERLAY', 'OVERWRITE', 'PARTITION', 'PARTITIONED', 'PARTITIONS', 'PERCENT', 'PIVOT', 'PLACING', 'POSITION', 'PRECEDING', 'PRIMARY', 'PRINCIPALS', 'PROPERTIES', 'PURGE', 'QUERY', 'RANGE', 'RECORDREADER', 'RECORDWRITER', 'RECOVER', 'REDUCE', 'REFERENCES', 'REFRESH', 'RENAME', 'REPAIR', 'REPLACE', 'RESET', 'RESPECT', 'RESTRICT', 'REVOKE', 'RIGHT', RLIKE, 'ROLE', 'ROLES', 'ROLLBACK', 'ROLLUP', 'ROW', 'ROWS', 'SECOND', 'SCHEMA', 'SELECT', 'SEMI', 'SEPARATED', 'SERDE', 'SERDEPROPERTIES', 'SESSION_USER', 'SET', 'MINUS', 'SETS', 'SHOW', 'SKEWED', 'SOME', 'SORT', 'SORTED', 'START', 'STATISTICS', 'STORED', 'STRATIFY', 'STRUCT', 'SUBSTR', 'SUBSTRING', 'SYNC', 'TABLE', 'TABLES', 'TABLESAMPLE', 'TBLPROPERTIES', TEMPORARY, 'TERMINATED', 'THEN', 'TIME', 'TO', 'TOUCH', 'TRAILING', 'TRANSACTION', 'TRANSACTIONS', 'TRANSFORM', 'TRIM', 'TRUE', 'TRUNCATE', 'TRY_CAST', 'TYPE', 'UNARCHIVE', 'UNBOUNDED', 'UNCACHE', 'UNION', 'UNIQUE', 'UNKNOWN', 'UNLOCK', 'UNSET', 'UPDATE', 'USE', 'USER', 'USING', 'VALUES', 'VIEW', 'VIEWS', 'WHEN', 'WHERE', 'WINDOW', 'WITH', 'YEAR', 'ZONE', '+', '-', '*', '~', STRING, BIGINT_LITERAL, SMALLINT_LITERAL, TINYINT_LITERAL, INTEGER_VALUE, EXPONENT_VALUE, DECIMAL_VALUE, FLOAT_LITERAL, DOUBLE_LITERAL, BIGDECIMAL_LITERAL, IDENTIFIER, BACKQUOTED_IDENTIFIER}(line 1, pos 0)\n\n== SQL ==\n\n^^^\n",
     "output_type": "error",
     "traceback": [
      "\u001b[0;31m---------------------------------------------------------------------------\u001b[0m",
      "\u001b[0;31mParseException\u001b[0m                            Traceback (most recent call last)",
      "Cell \u001b[0;32mIn[23], line 2\u001b[0m\n\u001b[1;32m      1\u001b[0m \u001b[39m# Perform breadth-first search (BFS) traversal to find indirect friends for each vertex\u001b[39;00m\n\u001b[0;32m----> 2\u001b[0m bfs_result \u001b[39m=\u001b[39m gf\u001b[39m.\u001b[39;49mbfs(\n\u001b[1;32m      3\u001b[0m     fromExpr\u001b[39m=\u001b[39;49m\u001b[39m\"\u001b[39;49m\u001b[39mid = 1\u001b[39;49m\u001b[39m\"\u001b[39;49m,\n\u001b[1;32m      4\u001b[0m     toExpr\u001b[39m=\u001b[39;49m\u001b[39m\"\u001b[39;49m\u001b[39m\"\u001b[39;49m,\n\u001b[1;32m      5\u001b[0m     maxPathLength\u001b[39m=\u001b[39;49m\u001b[39m2\u001b[39;49m\n\u001b[1;32m      6\u001b[0m )\n\u001b[1;32m      8\u001b[0m \u001b[39m# Group by vertices and count the number of indirect friends\u001b[39;00m\n\u001b[1;32m      9\u001b[0m indirect_friends_count \u001b[39m=\u001b[39m bfs_result\u001b[39m.\u001b[39mgroupBy(\u001b[39m\"\u001b[39m\u001b[39mto\u001b[39m\u001b[39m\"\u001b[39m)\u001b[39m.\u001b[39mcount()\n",
      "File \u001b[0;32m/tmp/spark-de7c51cf-2ae1-4109-8070-2d4a0b619eb9/userFiles-f0adbf02-59d8-47f8-aa45-684f6ecb1952/graphframes_graphframes-0.8.2-spark3.2-s_2.12.jar/graphframes/graphframe.py:259\u001b[0m, in \u001b[0;36mGraphFrame.bfs\u001b[0;34m(self, fromExpr, toExpr, edgeFilter, maxPathLength)\u001b[0m\n\u001b[1;32m    251\u001b[0m \u001b[39mdef\u001b[39;00m \u001b[39mbfs\u001b[39m(\u001b[39mself\u001b[39m, fromExpr, toExpr, edgeFilter\u001b[39m=\u001b[39m\u001b[39mNone\u001b[39;00m, maxPathLength\u001b[39m=\u001b[39m\u001b[39m10\u001b[39m):\n\u001b[1;32m    252\u001b[0m     \u001b[39m\"\"\"\u001b[39;00m\n\u001b[1;32m    253\u001b[0m \u001b[39m    Breadth-first search (BFS).\u001b[39;00m\n\u001b[1;32m    254\u001b[0m \n\u001b[0;32m   (...)\u001b[0m\n\u001b[1;32m    257\u001b[0m \u001b[39m    :return: DataFrame with one Row for each shortest path between matching vertices.\u001b[39;00m\n\u001b[1;32m    258\u001b[0m \u001b[39m    \"\"\"\u001b[39;00m\n\u001b[0;32m--> 259\u001b[0m     builder \u001b[39m=\u001b[39m \u001b[39mself\u001b[39;49m\u001b[39m.\u001b[39;49m_jvm_graph\u001b[39m.\u001b[39;49mbfs()\\\n\u001b[1;32m    260\u001b[0m         \u001b[39m.\u001b[39;49mfromExpr(fromExpr)\\\n\u001b[1;32m    261\u001b[0m         \u001b[39m.\u001b[39;49mtoExpr(toExpr)\\\n\u001b[1;32m    262\u001b[0m         \u001b[39m.\u001b[39mmaxPathLength(maxPathLength)\n\u001b[1;32m    263\u001b[0m     \u001b[39mif\u001b[39;00m edgeFilter \u001b[39mis\u001b[39;00m \u001b[39mnot\u001b[39;00m \u001b[39mNone\u001b[39;00m:\n\u001b[1;32m    264\u001b[0m         builder\u001b[39m.\u001b[39medgeFilter(edgeFilter)\n",
      "File \u001b[0;32m~/miniconda3/envs/Ml_Base/lib/python3.9/site-packages/py4j/java_gateway.py:1321\u001b[0m, in \u001b[0;36mJavaMember.__call__\u001b[0;34m(self, *args)\u001b[0m\n\u001b[1;32m   1315\u001b[0m command \u001b[39m=\u001b[39m proto\u001b[39m.\u001b[39mCALL_COMMAND_NAME \u001b[39m+\u001b[39m\\\n\u001b[1;32m   1316\u001b[0m     \u001b[39mself\u001b[39m\u001b[39m.\u001b[39mcommand_header \u001b[39m+\u001b[39m\\\n\u001b[1;32m   1317\u001b[0m     args_command \u001b[39m+\u001b[39m\\\n\u001b[1;32m   1318\u001b[0m     proto\u001b[39m.\u001b[39mEND_COMMAND_PART\n\u001b[1;32m   1320\u001b[0m answer \u001b[39m=\u001b[39m \u001b[39mself\u001b[39m\u001b[39m.\u001b[39mgateway_client\u001b[39m.\u001b[39msend_command(command)\n\u001b[0;32m-> 1321\u001b[0m return_value \u001b[39m=\u001b[39m get_return_value(\n\u001b[1;32m   1322\u001b[0m     answer, \u001b[39mself\u001b[39;49m\u001b[39m.\u001b[39;49mgateway_client, \u001b[39mself\u001b[39;49m\u001b[39m.\u001b[39;49mtarget_id, \u001b[39mself\u001b[39;49m\u001b[39m.\u001b[39;49mname)\n\u001b[1;32m   1324\u001b[0m \u001b[39mfor\u001b[39;00m temp_arg \u001b[39min\u001b[39;00m temp_args:\n\u001b[1;32m   1325\u001b[0m     temp_arg\u001b[39m.\u001b[39m_detach()\n",
      "File \u001b[0;32m~/miniconda3/envs/Ml_Base/lib/python3.9/site-packages/pyspark/sql/utils.py:117\u001b[0m, in \u001b[0;36mcapture_sql_exception.<locals>.deco\u001b[0;34m(*a, **kw)\u001b[0m\n\u001b[1;32m    113\u001b[0m converted \u001b[39m=\u001b[39m convert_exception(e\u001b[39m.\u001b[39mjava_exception)\n\u001b[1;32m    114\u001b[0m \u001b[39mif\u001b[39;00m \u001b[39mnot\u001b[39;00m \u001b[39misinstance\u001b[39m(converted, UnknownException):\n\u001b[1;32m    115\u001b[0m     \u001b[39m# Hide where the exception came from that shows a non-Pythonic\u001b[39;00m\n\u001b[1;32m    116\u001b[0m     \u001b[39m# JVM exception message.\u001b[39;00m\n\u001b[0;32m--> 117\u001b[0m     \u001b[39mraise\u001b[39;00m converted \u001b[39mfrom\u001b[39;00m \u001b[39mNone\u001b[39m\n\u001b[1;32m    118\u001b[0m \u001b[39melse\u001b[39;00m:\n\u001b[1;32m    119\u001b[0m     \u001b[39mraise\u001b[39;00m\n",
      "\u001b[0;31mParseException\u001b[0m: \nmismatched input '<EOF>' expecting {'(', 'ADD', 'AFTER', 'ALL', 'ALTER', 'ANALYZE', 'AND', 'ANTI', 'ANY', 'ARCHIVE', 'ARRAY', 'AS', 'ASC', 'AT', 'AUTHORIZATION', 'BETWEEN', 'BOTH', 'BUCKET', 'BUCKETS', 'BY', 'CACHE', 'CASCADE', 'CASE', 'CAST', 'CHANGE', 'CHECK', 'CLEAR', 'CLUSTER', 'CLUSTERED', 'CODEGEN', 'COLLATE', 'COLLECTION', 'COLUMN', 'COLUMNS', 'COMMENT', 'COMMIT', 'COMPACT', 'COMPACTIONS', 'COMPUTE', 'CONCATENATE', 'CONSTRAINT', 'COST', 'CREATE', 'CROSS', 'CUBE', 'CURRENT', 'CURRENT_DATE', 'CURRENT_TIME', 'CURRENT_TIMESTAMP', 'CURRENT_USER', 'DAY', 'DATA', 'DATABASE', DATABASES, 'DBPROPERTIES', 'DEFINED', 'DELETE', 'DELIMITED', 'DESC', 'DESCRIBE', 'DFS', 'DIRECTORIES', 'DIRECTORY', 'DISTINCT', 'DISTRIBUTE', 'DIV', 'DROP', 'ELSE', 'END', 'ESCAPE', 'ESCAPED', 'EXCEPT', 'EXCHANGE', 'EXISTS', 'EXPLAIN', 'EXPORT', 'EXTENDED', 'EXTERNAL', 'EXTRACT', 'FALSE', 'FETCH', 'FIELDS', 'FILTER', 'FILEFORMAT', 'FIRST', 'FOLLOWING', 'FOR', 'FOREIGN', 'FORMAT', 'FORMATTED', 'FROM', 'FULL', 'FUNCTION', 'FUNCTIONS', 'GLOBAL', 'GRANT', 'GROUP', 'GROUPING', 'HAVING', 'HOUR', 'IF', 'IGNORE', 'IMPORT', 'IN', 'INDEX', 'INDEXES', 'INNER', 'INPATH', 'INPUTFORMAT', 'INSERT', 'INTERSECT', 'INTERVAL', 'INTO', 'IS', 'ITEMS', 'JOIN', 'KEYS', 'LAST', 'LATERAL', 'LAZY', 'LEADING', 'LEFT', 'LIKE', 'LIMIT', 'LINES', 'LIST', 'LOAD', 'LOCAL', 'LOCATION', 'LOCK', 'LOCKS', 'LOGICAL', 'MACRO', 'MAP', 'MATCHED', 'MERGE', 'MINUTE', 'MONTH', 'MSCK', 'NAMESPACE', 'NAMESPACES', 'NATURAL', 'NO', NOT, 'NULL', 'NULLS', 'OF', 'ON', 'ONLY', 'OPTION', 'OPTIONS', 'OR', 'ORDER', 'OUT', 'OUTER', 'OUTPUTFORMAT', 'OVER', 'OVERLAPS', 'OVERLAY', 'OVERWRITE', 'PARTITION', 'PARTITIONED', 'PARTITIONS', 'PERCENT', 'PIVOT', 'PLACING', 'POSITION', 'PRECEDING', 'PRIMARY', 'PRINCIPALS', 'PROPERTIES', 'PURGE', 'QUERY', 'RANGE', 'RECORDREADER', 'RECORDWRITER', 'RECOVER', 'REDUCE', 'REFERENCES', 'REFRESH', 'RENAME', 'REPAIR', 'REPLACE', 'RESET', 'RESPECT', 'RESTRICT', 'REVOKE', 'RIGHT', RLIKE, 'ROLE', 'ROLES', 'ROLLBACK', 'ROLLUP', 'ROW', 'ROWS', 'SECOND', 'SCHEMA', 'SELECT', 'SEMI', 'SEPARATED', 'SERDE', 'SERDEPROPERTIES', 'SESSION_USER', 'SET', 'MINUS', 'SETS', 'SHOW', 'SKEWED', 'SOME', 'SORT', 'SORTED', 'START', 'STATISTICS', 'STORED', 'STRATIFY', 'STRUCT', 'SUBSTR', 'SUBSTRING', 'SYNC', 'TABLE', 'TABLES', 'TABLESAMPLE', 'TBLPROPERTIES', TEMPORARY, 'TERMINATED', 'THEN', 'TIME', 'TO', 'TOUCH', 'TRAILING', 'TRANSACTION', 'TRANSACTIONS', 'TRANSFORM', 'TRIM', 'TRUE', 'TRUNCATE', 'TRY_CAST', 'TYPE', 'UNARCHIVE', 'UNBOUNDED', 'UNCACHE', 'UNION', 'UNIQUE', 'UNKNOWN', 'UNLOCK', 'UNSET', 'UPDATE', 'USE', 'USER', 'USING', 'VALUES', 'VIEW', 'VIEWS', 'WHEN', 'WHERE', 'WINDOW', 'WITH', 'YEAR', 'ZONE', '+', '-', '*', '~', STRING, BIGINT_LITERAL, SMALLINT_LITERAL, TINYINT_LITERAL, INTEGER_VALUE, EXPONENT_VALUE, DECIMAL_VALUE, FLOAT_LITERAL, DOUBLE_LITERAL, BIGDECIMAL_LITERAL, IDENTIFIER, BACKQUOTED_IDENTIFIER}(line 1, pos 0)\n\n== SQL ==\n\n^^^\n"
     ]
    }
   ],
   "source": [
    "# Perform breadth-first search (BFS) traversal to find indirect friends for each vertex\n",
    "bfs_result = gf.bfs(\n",
    "    fromExpr=\"id = 1\",\n",
    "    toExpr=\"\",\n",
    "    maxPathLength=2\n",
    ")\n",
    "\n",
    "# Group by vertices and count the number of indirect friends\n",
    "indirect_friends_count = bfs_result.groupBy(\"to\").count()\n",
    "\n",
    "# Find the person with the most indirect friends\n",
    "person_with_most_indirect_friends = indirect_friends_count.orderBy(indirect_friends_count[\"count\"].desc()).first()\n",
    "\n",
    "# Display the person with the most indirect friends\n",
    "print(\"Person with the most indirect friends:\", person_with_most_indirect_friends[\"to\"])"
   ]
  },
  {
   "cell_type": "markdown",
   "metadata": {},
   "source": [
    "# Most Important Persons (PageRank)"
   ]
  },
  {
   "cell_type": "code",
   "execution_count": null,
   "metadata": {},
   "outputs": [
    {
     "name": "stderr",
     "output_type": "stream",
     "text": [
      "23/07/08 13:08:46 WARN BlockManager: Block rdd_667_0 already exists on this machine; not re-adding it\n"
     ]
    },
    {
     "name": "stdout",
     "output_type": "stream",
     "text": [
      "+---+------------------+\n",
      "| id|          pagerank|\n",
      "+---+------------------+\n",
      "| 25|3.2143889388762528|\n",
      "| 56| 3.202448130965981|\n",
      "|322| 3.158174546526567|\n",
      "|119| 3.125720572775718|\n",
      "| 67| 3.096315776598929|\n",
      "|271| 2.951859801155131|\n",
      "|277|2.9137075632197584|\n",
      "| 21| 2.779733501281871|\n",
      "| 26| 2.741748133688712|\n",
      "|252|2.6524457151983247|\n",
      "|122| 2.650562461337814|\n",
      "|312| 2.519876920108743|\n",
      "|239|2.5008420829290903|\n",
      "|315|2.4405387176853828|\n",
      "|203|2.3880828720498006|\n",
      "|  9| 2.375254010034537|\n",
      "|200| 2.340494903196381|\n",
      "|304| 2.313954622142133|\n",
      "| 41| 2.311232654696034|\n",
      "|115|2.1752748697865454|\n",
      "+---+------------------+\n",
      "only showing top 20 rows\n",
      "\n"
     ]
    }
   ],
   "source": [
    "pr = gf.pageRank(resetProbability=0.15, tol=0.01).vertices\n",
    "pr.sort(\"pagerank\", ascending=False).show()"
   ]
  },
  {
   "cell_type": "markdown",
   "metadata": {},
   "source": [
    "# Groups of 4 Friends (Motif)"
   ]
  },
  {
   "cell_type": "code",
   "execution_count": null,
   "metadata": {},
   "outputs": [],
   "source": [
    "# nodes a,b,c,d\n",
    "friendPattern = '(a)-[ab]->(b); (a)-[ac]->(c); (a)-[ad]->(d); (b)-[bc]->(c); (b)-[bd]->(d); (c)-[cd]->(d)'"
   ]
  },
  {
   "cell_type": "code",
   "execution_count": null,
   "metadata": {},
   "outputs": [],
   "source": [
    "fourFriends = gf.find(friendPattern)"
   ]
  },
  {
   "cell_type": "code",
   "execution_count": null,
   "metadata": {},
   "outputs": [
    {
     "name": "stdout",
     "output_type": "stream",
     "text": [
      "+-----+-----+-----+-----+\n",
      "|    a|    b|    c|    d|\n",
      "+-----+-----+-----+-----+\n",
      "|{296}| {68}|{227}|{263}|\n",
      "|{296}| {68}|{227}|{175}|\n",
      "|{296}| {68}|{227}| {99}|\n",
      "|{296}| {68}|{263}|{227}|\n",
      "|{296}| {68}|{263}|{175}|\n",
      "|{296}| {68}|{263}| {99}|\n",
      "|{296}| {68}|{175}|{227}|\n",
      "|{296}| {68}|{175}|{263}|\n",
      "|{296}| {68}|{175}| {99}|\n",
      "|{296}| {68}| {99}|{227}|\n",
      "|{296}| {68}| {99}|{263}|\n",
      "|{296}| {68}| {99}|{175}|\n",
      "|{296}|{227}| {68}|{263}|\n",
      "|{296}|{227}| {68}|{175}|\n",
      "|{296}|{227}| {68}| {99}|\n",
      "|{296}|{227}|{263}| {68}|\n",
      "|{296}|{227}|{263}|{175}|\n",
      "|{296}|{227}|{263}| {99}|\n",
      "|{296}|{227}|{263}|{102}|\n",
      "|{296}|{227}|{175}| {68}|\n",
      "+-----+-----+-----+-----+\n",
      "only showing top 20 rows\n",
      "\n"
     ]
    }
   ],
   "source": [
    "fourFriends = fourFriends.select('a','b','c','d')\n",
    "fourFriends.show()"
   ]
  },
  {
   "cell_type": "code",
   "execution_count": null,
   "metadata": {},
   "outputs": [
    {
     "name": "stdout",
     "output_type": "stream",
     "text": [
      "+-----+-----+-----+\n",
      "|    a|    b|    c|\n",
      "+-----+-----+-----+\n",
      "|{296}| {68}| {99}|\n",
      "|{296}| {68}|{263}|\n",
      "|{296}| {68}|{227}|\n",
      "|{296}| {68}|{175}|\n",
      "|{296}|{227}|{175}|\n",
      "|{296}|{227}| {99}|\n",
      "|{296}|{227}|{263}|\n",
      "|{296}|{227}|{102}|\n",
      "|{296}|{227}| {68}|\n",
      "|{296}|{263}| {68}|\n",
      "|{296}|{263}|{227}|\n",
      "|{296}|{263}| {99}|\n",
      "|{296}|{263}|{102}|\n",
      "|{296}|{263}|{175}|\n",
      "|{296}|{175}|{263}|\n",
      "|{296}|{175}|{227}|\n",
      "|{296}|{175}|{102}|\n",
      "|{296}|{175}| {68}|\n",
      "|{296}|{175}| {99}|\n",
      "|{296}| {99}|{175}|\n",
      "+-----+-----+-----+\n",
      "only showing top 20 rows\n",
      "\n"
     ]
    }
   ],
   "source": [
    "# Find all friends involved in a triangle\n",
    "triangle_friends = gf.find(\"(a)-[]->(b); (b)-[]->(c); (c)-[]->(a)\")\n",
    "\n",
    "# Show the DataFrame of friends involved in triangles\n",
    "threeFriends = triangle_friends.select('a','b','c')\n",
    "threeFriends.show()"
   ]
  },
  {
   "cell_type": "markdown",
   "metadata": {},
   "source": [
    "# A and B have common neighbor C\n",
    " The variables e and e2 represent specific edge labels or types. This pattern specifies that there should be two different types of edges connecting the vertices 'a', 'b', and 'c'."
   ]
  },
  {
   "cell_type": "code",
   "execution_count": null,
   "metadata": {},
   "outputs": [
    {
     "name": "stdout",
     "output_type": "stream",
     "text": [
      "+-----+-----+-----+\n",
      "|    a|    b|    c|\n",
      "+-----+-----+-----+\n",
      "|{296}| {68}|{296}|\n",
      "|{296}| {68}| {99}|\n",
      "|{296}| {68}|{263}|\n",
      "|{296}| {68}|{143}|\n",
      "|{296}| {68}|{227}|\n",
      "|{296}| {68}|{225}|\n",
      "|{296}| {68}|{175}|\n",
      "|{296}| {68}|{177}|\n",
      "|{296}|{227}|{131}|\n",
      "|{296}|{227}|{175}|\n",
      "|{296}|{227}| {19}|\n",
      "|{296}|{227}| {99}|\n",
      "|{296}|{227}|{278}|\n",
      "|{296}|{227}|{263}|\n",
      "|{296}|{227}|{225}|\n",
      "|{296}|{227}|{143}|\n",
      "|{296}|{227}|{296}|\n",
      "|{296}|{227}|{102}|\n",
      "|{296}|{227}| {86}|\n",
      "|{296}|{227}| {23}|\n",
      "+-----+-----+-----+\n",
      "only showing top 20 rows\n",
      "\n"
     ]
    }
   ],
   "source": [
    "# Find all friends involved in a triangle\n",
    "common_neighbors = gf.find(\"(a)-[e]->(b); (b)-[e2]->(c)\")\n",
    "\n",
    "# Show the DataFrame of friends involved in triangles\n",
    "threeFriends = common_neighbors.select('a','b','c')\n",
    "threeFriends.show()"
   ]
  },
  {
   "cell_type": "markdown",
   "metadata": {},
   "source": [
    "# Common neighbor\n",
    "a and c have common neigbor v"
   ]
  },
  {
   "cell_type": "code",
   "execution_count": null,
   "metadata": {},
   "outputs": [
    {
     "name": "stdout",
     "output_type": "stream",
     "text": [
      "+---+------+---+------+---+\n",
      "|  a|     e|  b|    e2|  c|\n",
      "+---+------+---+------+---+\n",
      "|{4}|{4, 5}|{5}|{5, 1}|{1}|\n",
      "|{5}|{5, 1}|{1}|{1, 2}|{2}|\n",
      "|{1}|{1, 2}|{2}|{2, 3}|{3}|\n",
      "|{2}|{2, 3}|{3}|{3, 4}|{4}|\n",
      "|{3}|{3, 4}|{4}|{4, 5}|{5}|\n",
      "+---+------+---+------+---+\n",
      "\n"
     ]
    }
   ],
   "source": [
    "\n",
    "# Create a DataFrame representing the graph\n",
    "vertices = spark.createDataFrame([(1,), (2,), (3,), (4,), (5,)], ['id'])\n",
    "edges = spark.createDataFrame([(1, 2), (2, 3), (3, 4), (4, 5), (5, 1)], ['src', 'dst'])\n",
    "graph = GraphFrame(vertices, edges)\n",
    "\n",
    "# Find motif pattern (a)-[e]->(b); (b)-[e2]->(c)\n",
    "motif_result = graph.find(\"(a)-[e]->(b); (b)-[e2]->(c)\")\n",
    "motif_result.show()"
   ]
  },
  {
   "cell_type": "code",
   "execution_count": null,
   "metadata": {},
   "outputs": [
    {
     "name": "stdout",
     "output_type": "stream",
     "text": [
      "+---+---+---+\n",
      "|  a|  b|  c|\n",
      "+---+---+---+\n",
      "|{4}|{5}|{1}|\n",
      "|{5}|{1}|{2}|\n",
      "|{1}|{2}|{3}|\n",
      "|{2}|{3}|{4}|\n",
      "|{3}|{4}|{5}|\n",
      "+---+---+---+\n",
      "\n"
     ]
    }
   ],
   "source": [
    "motif_result = graph.find(\"(a)-[]->(b); (b)-[]->(c)\")\n",
    "motif_result.show()"
   ]
  },
  {
   "cell_type": "markdown",
   "metadata": {},
   "source": [
    "# Clique\n",
    "A clique motif represents a complete subgraph where every individual is connected to every other individual. It can help identify tightly-knit groups with strong connections.\n"
   ]
  },
  {
   "cell_type": "code",
   "execution_count": null,
   "metadata": {},
   "outputs": [
    {
     "name": "stdout",
     "output_type": "stream",
     "text": [
      "+---+---+---+\n",
      "|  a|  b|  c|\n",
      "+---+---+---+\n",
      "|{1}|{2}|{3}|\n",
      "|{2}|{3}|{4}|\n",
      "|{1}|{3}|{4}|\n",
      "|{1}|{2}|{4}|\n",
      "+---+---+---+\n",
      "\n"
     ]
    }
   ],
   "source": [
    "\n",
    "vertices = spark.createDataFrame([(1,), (2,), (3,), (4,)], ['id'])\n",
    "edges = spark.createDataFrame([(1, 2), (1, 3), (1, 4), (2, 3), (2, 4), (3, 4)], ['src', 'dst'])\n",
    "graph = GraphFrame(vertices, edges)\n",
    "\n",
    "# Find clique motif (a)-[]->(b); (a)-[]->(c); (b)-[]->(c)\n",
    "clique_motif = graph.find(\"(a)-[]->(b); (a)-[]->(c); (b)-[]->(c)\")\n",
    "clique_motif.show()"
   ]
  },
  {
   "cell_type": "markdown",
   "metadata": {},
   "source": [
    "# Star Motiv\n",
    "A star motif represents a central individual connected to multiple other individuals. It can help identify influential or central figures within a social network. You can find star motifs using the following code\n"
   ]
  },
  {
   "cell_type": "code",
   "execution_count": null,
   "metadata": {},
   "outputs": [
    {
     "name": "stdout",
     "output_type": "stream",
     "text": [
      "+---+---+---+---+\n",
      "|  a|  x|  y|  z|\n",
      "+---+---+---+---+\n",
      "|{1}|{4}|{2}|{2}|\n",
      "|{1}|{3}|{2}|{2}|\n",
      "|{1}|{2}|{2}|{2}|\n",
      "|{1}|{4}|{3}|{2}|\n",
      "|{1}|{3}|{3}|{2}|\n",
      "|{1}|{2}|{3}|{2}|\n",
      "|{1}|{4}|{4}|{2}|\n",
      "|{1}|{3}|{4}|{2}|\n",
      "|{1}|{2}|{4}|{2}|\n",
      "|{1}|{4}|{2}|{3}|\n",
      "|{1}|{3}|{2}|{3}|\n",
      "|{1}|{2}|{2}|{3}|\n",
      "|{1}|{4}|{3}|{3}|\n",
      "|{1}|{3}|{3}|{3}|\n",
      "|{1}|{2}|{3}|{3}|\n",
      "|{1}|{4}|{4}|{3}|\n",
      "|{1}|{3}|{4}|{3}|\n",
      "|{1}|{2}|{4}|{3}|\n",
      "|{1}|{4}|{2}|{4}|\n",
      "|{1}|{3}|{2}|{4}|\n",
      "+---+---+---+---+\n",
      "only showing top 20 rows\n",
      "\n"
     ]
    }
   ],
   "source": [
    "# Create a DataFrame representing the graph\n",
    "vertices = spark.createDataFrame([(1,), (2,), (3,), (4,)], ['id'])\n",
    "edges = spark.createDataFrame([(1, 2), (1, 3), (1, 4)], ['src', 'dst'])\n",
    "graph = GraphFrame(vertices, edges)\n",
    "\n",
    "# Find star motif (a)-[]->(x); (a)-[]->(y); (a)-[]->(z)\n",
    "star_motif = graph.find(\"(a)-[]->(x); (a)-[]->(y); (a)-[]->(z)\")\n",
    "star_motif.show()"
   ]
  }
 ],
 "metadata": {
  "kernelspec": {
   "display_name": "Python 3 (ipykernel)",
   "language": "python",
   "name": "python3"
  },
  "language_info": {
   "codemirror_mode": {
    "name": "ipython",
    "version": 3
   },
   "file_extension": ".py",
   "mimetype": "text/x-python",
   "name": "python",
   "nbconvert_exporter": "python",
   "pygments_lexer": "ipython3",
   "version": "3.9.16"
  }
 },
 "nbformat": 4,
 "nbformat_minor": 4
}
