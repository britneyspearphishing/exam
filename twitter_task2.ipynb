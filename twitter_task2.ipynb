{
 "cells": [
  {
   "cell_type": "code",
   "execution_count": 38,
   "metadata": {},
   "outputs": [],
   "source": [
    "# install the python driver as decribed here https://neo4j.com/docs/api/python-driver/current/\n",
    "# make sure that the Neo4j server is running and the twitter graph exists with correct credentials\n",
    "# - start Neo4j Desktop\n",
    "# - start the DBMS"
   ]
  },
  {
   "cell_type": "code",
   "execution_count": 39,
   "metadata": {},
   "outputs": [],
   "source": [
    "from neo4j import GraphDatabase"
   ]
  },
  {
   "cell_type": "code",
   "execution_count": 40,
   "metadata": {},
   "outputs": [],
   "source": [
    "neo4j_uri = \"bolt://localhost:7687\"\n",
    "neo4j_user = \"neo4j\"\n",
    "neo4j_password = \"neo4jtwitter\"\n",
    "neo4j_driver = GraphDatabase.driver(neo4j_uri, auth=(neo4j_user, neo4j_password))"
   ]
  },
  {
   "cell_type": "code",
   "execution_count": 41,
   "metadata": {},
   "outputs": [
    {
     "name": "stdout",
     "output_type": "stream",
     "text": [
      "38986\n"
     ]
    }
   ],
   "source": [
    "# count users\n",
    "with neo4j_driver.session() as session:\n",
    "    query = \"MATCH (u:User) \" + \\\n",
    "            \"RETURN count(u) as users\"\n",
    "    result = session.run(query)\n",
    "    for r in result:\n",
    "        print(r[\"users\"])"
   ]
  },
  {
   "cell_type": "code",
   "execution_count": 42,
   "metadata": {},
   "outputs": [
    {
     "name": "stdout",
     "output_type": "stream",
     "text": [
      "2407\n"
     ]
    }
   ],
   "source": [
    "# count tweets\n",
    "with neo4j_driver.session() as session:\n",
    "    query = \"MATCH (t:Tweet) \" + \\\n",
    "            \"RETURN count(t) as tweets\"\n",
    "    result = session.run(query)\n",
    "    for r in result:\n",
    "        print(r[\"tweets\"])"
   ]
  },
  {
   "cell_type": "code",
   "execution_count": 43,
   "metadata": {},
   "outputs": [
    {
     "name": "stdout",
     "output_type": "stream",
     "text": [
      "344\n"
     ]
    }
   ],
   "source": [
    "# count hashtags\n",
    "with neo4j_driver.session() as session:\n",
    "    query = \"MATCH (h:Hashtag) \" + \\\n",
    "            \"RETURN count(h) as hashtags\"\n",
    "    result = session.run(query)\n",
    "    for r in result:\n",
    "        print(r[\"hashtags\"])"
   ]
  },
  {
   "cell_type": "code",
   "execution_count": null,
   "metadata": {},
   "outputs": [],
   "source": []
  }
 ],
 "metadata": {
  "kernelspec": {
   "display_name": "Python 3",
   "language": "python",
   "name": "python3"
  },
  "language_info": {
   "codemirror_mode": {
    "name": "ipython",
    "version": 3
   },
   "file_extension": ".py",
   "mimetype": "text/x-python",
   "name": "python",
   "nbconvert_exporter": "python",
   "pygments_lexer": "ipython3",
   "version": "3.9.16"
  }
 },
 "nbformat": 4,
 "nbformat_minor": 2
}
