{
 "cells": [
  {
   "cell_type": "code",
   "execution_count": 24,
   "metadata": {},
   "outputs": [],
   "source": [
    "# install the python driver as decribed here https://neo4j.com/docs/api/python-driver/current/\n",
    "# make sure that the Neo4j server is running and the movie graph exists\n",
    "# - start Neo4j Desktop\n",
    "# - if needed, create a new graph DBMS \n",
    "# - set credentials of the DBMS (and update these below)\n",
    "# - start the DBMS\n",
    "# - open Neo4j Browser\n",
    "# - if needed, execute \":play movie graph\" and execute \"CREATE\" Cypher statement to fill the graph with data"
   ]
  },
  {
   "cell_type": "code",
   "execution_count": 25,
   "metadata": {},
   "outputs": [],
   "source": [
    "from neo4j import GraphDatabase"
   ]
  },
  {
   "cell_type": "code",
   "execution_count": 26,
   "metadata": {},
   "outputs": [],
   "source": [
    "neo4j_uri = \"bolt://localhost:7687\"\n",
    "neo4j_user = \"neo4j\"\n",
    "neo4j_password = \"neo4jspark\"\n",
    "neo4j_driver = GraphDatabase.driver(neo4j_uri, auth=(neo4j_user, neo4j_password))"
   ]
  },
  {
   "cell_type": "code",
   "execution_count": 27,
   "metadata": {},
   "outputs": [
    {
     "name": "stdout",
     "output_type": "stream",
     "text": [
      "Tom Hanks\n"
     ]
    }
   ],
   "source": [
    "# actors who played in the most number of movies\n",
    "with neo4j_driver.session() as session:\n",
    "    query = \"MATCH (p:Person)-[:ACTED_IN]->(m:Movie) \" +\\\n",
    "            \"RETURN p.name, count(m) as movies \" +\\\n",
    "            \"ORDER BY movies DESC \" +\\\n",
    "            \"LIMIT 1\"\n",
    "    result = session.run(query)\n",
    "    for r in result:\n",
    "        print(r[\"p.name\"])"
   ]
  },
  {
   "cell_type": "code",
   "execution_count": 28,
   "metadata": {},
   "outputs": [
    {
     "name": "stdout",
     "output_type": "stream",
     "text": [
      "Clint Eastwood\n",
      "Danny DeVito\n",
      "James Marshall\n",
      "Tom Hanks\n",
      "Werner Herzog\n"
     ]
    }
   ],
   "source": [
    "# actors who also directed at least one movie\n",
    "with neo4j_driver.session() as session:\n",
    "    query = \"MATCH (m1:Movie)<-[:DIRECTED]-(p:Person)-[:ACTED_IN]->(m2:Movie) \" +\\\n",
    "            \"RETURN DISTINCT p.name \" +\\\n",
    "            \"ORDER BY p.name\"\n",
    "    result = session.run(query)\n",
    "    for r in result:\n",
    "        print(r[\"p.name\"])"
   ]
  },
  {
   "cell_type": "code",
   "execution_count": 29,
   "metadata": {},
   "outputs": [
    {
     "name": "stdout",
     "output_type": "stream",
     "text": [
      "Clint Eastwood : Unforgiven\n",
      "Danny DeVito : Hoffa\n",
      "Tom Hanks : That Thing You Do\n"
     ]
    }
   ],
   "source": [
    "#  actors who played in a movie which they also directed\n",
    "with neo4j_driver.session() as session:\n",
    "    query = \"MATCH (m:Movie)<-[:DIRECTED]-(p:Person)-[:ACTED_IN]->(m:Movie) \" +\\\n",
    "            \"RETURN p.name, m.title \" +\\\n",
    "            \"ORDER BY p.name\"\n",
    "    result = session.run(query)\n",
    "    for r in result:\n",
    "        print(r[\"p.name\"],\":\", r[\"m.title\"])"
   ]
  },
  {
   "cell_type": "code",
   "execution_count": null,
   "metadata": {},
   "outputs": [],
   "source": []
  }
 ],
 "metadata": {
  "kernelspec": {
   "display_name": "Python 3",
   "language": "python",
   "name": "python3"
  },
  "language_info": {
   "codemirror_mode": {
    "name": "ipython",
    "version": 3
   },
   "file_extension": ".py",
   "mimetype": "text/x-python",
   "name": "python",
   "nbconvert_exporter": "python",
   "pygments_lexer": "ipython3",
   "version": "3.9.16"
  }
 },
 "nbformat": 4,
 "nbformat_minor": 2
}
