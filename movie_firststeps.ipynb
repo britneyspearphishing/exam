{
 "cells": [
  {
   "cell_type": "code",
   "execution_count": 1,
   "metadata": {},
   "outputs": [],
   "source": [
    "# install the python driver as decribed here https://neo4j.com/docs/api/python-driver/current/\n",
    "# make sure that the Neo4j server is running and the movie graph exists\n",
    "# - start Neo4j Desktop\n",
    "# - if needed, create a new graph DBMS \n",
    "# - set credentials of the DBMS (and update these below)\n",
    "# - start the DBMS\n",
    "# - open Neo4j Browser\n",
    "# - if needed, execute \":play movie graph\" and execute \"CREATE\" Cypher statement to fill the graph with data"
   ]
  },
  {
   "cell_type": "code",
   "execution_count": 2,
   "metadata": {},
   "outputs": [],
   "source": [
    "from neo4j import GraphDatabase"
   ]
  },
  {
   "cell_type": "code",
   "execution_count": 3,
   "metadata": {},
   "outputs": [],
   "source": [
    "neo4j_uri = \"bolt://127.0.0.1:7687\"\n",
    "neo4j_user = \"neo4j\"\n",
    "neo4j_password = \"spark\"\n",
    "neo4j_driver = GraphDatabase.driver(neo4j_uri, auth=(neo4j_user, neo4j_password))"
   ]
  },
  {
   "cell_type": "code",
   "execution_count": 4,
   "metadata": {},
   "outputs": [
    {
     "ename": "AuthError",
     "evalue": "{code: Neo.ClientError.Security.Unauthorized} {message: The client is unauthorized due to authentication failure.}",
     "output_type": "error",
     "traceback": [
      "\u001b[0;31m---------------------------------------------------------------------------\u001b[0m",
      "\u001b[0;31mAuthError\u001b[0m                                 Traceback (most recent call last)",
      "Cell \u001b[0;32mIn[4], line 6\u001b[0m\n\u001b[1;32m      2\u001b[0m \u001b[39mwith\u001b[39;00m neo4j_driver\u001b[39m.\u001b[39msession() \u001b[39mas\u001b[39;00m session:\n\u001b[1;32m      3\u001b[0m     query \u001b[39m=\u001b[39m \u001b[39m\"\u001b[39m\u001b[39mMATCH (p:Person) \u001b[39m\u001b[39m\"\u001b[39m \u001b[39m+\u001b[39m \\\n\u001b[1;32m      4\u001b[0m             \u001b[39m\"\u001b[39m\u001b[39mRETURN p.name \u001b[39m\u001b[39m\"\u001b[39m \u001b[39m+\u001b[39m \\\n\u001b[1;32m      5\u001b[0m             \u001b[39m\"\u001b[39m\u001b[39mORDER BY p.name\u001b[39m\u001b[39m\"\u001b[39m\n\u001b[0;32m----> 6\u001b[0m     result \u001b[39m=\u001b[39m session\u001b[39m.\u001b[39;49mrun(query)\n\u001b[1;32m      7\u001b[0m     \u001b[39mfor\u001b[39;00m r \u001b[39min\u001b[39;00m result:\n\u001b[1;32m      8\u001b[0m         \u001b[39mprint\u001b[39m(r[\u001b[39m\"\u001b[39m\u001b[39mp.name\u001b[39m\u001b[39m\"\u001b[39m])\n",
      "File \u001b[0;32m~/miniconda3/envs/Ml_Base/lib/python3.9/site-packages/neo4j/_sync/work/session.py:302\u001b[0m, in \u001b[0;36mSession.run\u001b[0;34m(self, query, parameters, **kwargs)\u001b[0m\n\u001b[1;32m    299\u001b[0m     \u001b[39mself\u001b[39m\u001b[39m.\u001b[39m_auto_result\u001b[39m.\u001b[39m_buffer_all()\n\u001b[1;32m    301\u001b[0m \u001b[39mif\u001b[39;00m \u001b[39mnot\u001b[39;00m \u001b[39mself\u001b[39m\u001b[39m.\u001b[39m_connection:\n\u001b[0;32m--> 302\u001b[0m     \u001b[39mself\u001b[39;49m\u001b[39m.\u001b[39;49m_connect(\u001b[39mself\u001b[39;49m\u001b[39m.\u001b[39;49m_config\u001b[39m.\u001b[39;49mdefault_access_mode)\n\u001b[1;32m    303\u001b[0m cx \u001b[39m=\u001b[39m \u001b[39mself\u001b[39m\u001b[39m.\u001b[39m_connection\n\u001b[1;32m    305\u001b[0m \u001b[39mself\u001b[39m\u001b[39m.\u001b[39m_auto_result \u001b[39m=\u001b[39m Result(\n\u001b[1;32m    306\u001b[0m     cx, \u001b[39mself\u001b[39m\u001b[39m.\u001b[39m_config\u001b[39m.\u001b[39mfetch_size, \u001b[39mself\u001b[39m\u001b[39m.\u001b[39m_result_closed,\n\u001b[1;32m    307\u001b[0m     \u001b[39mself\u001b[39m\u001b[39m.\u001b[39m_result_error\n\u001b[1;32m    308\u001b[0m )\n",
      "File \u001b[0;32m~/miniconda3/envs/Ml_Base/lib/python3.9/site-packages/neo4j/_sync/work/session.py:135\u001b[0m, in \u001b[0;36mSession._connect\u001b[0;34m(self, access_mode, **acquire_kwargs)\u001b[0m\n\u001b[1;32m    133\u001b[0m     access_mode \u001b[39m=\u001b[39m \u001b[39mself\u001b[39m\u001b[39m.\u001b[39m_config\u001b[39m.\u001b[39mdefault_access_mode\n\u001b[1;32m    134\u001b[0m \u001b[39mtry\u001b[39;00m:\n\u001b[0;32m--> 135\u001b[0m     \u001b[39msuper\u001b[39;49m()\u001b[39m.\u001b[39;49m_connect(\n\u001b[1;32m    136\u001b[0m         access_mode, auth\u001b[39m=\u001b[39;49m\u001b[39mself\u001b[39;49m\u001b[39m.\u001b[39;49m_config\u001b[39m.\u001b[39;49mauth, \u001b[39m*\u001b[39;49m\u001b[39m*\u001b[39;49macquire_kwargs\n\u001b[1;32m    137\u001b[0m     )\n\u001b[1;32m    138\u001b[0m \u001b[39mexcept\u001b[39;00m asyncio\u001b[39m.\u001b[39mCancelledError:\n\u001b[1;32m    139\u001b[0m     \u001b[39mself\u001b[39m\u001b[39m.\u001b[39m_handle_cancellation(message\u001b[39m=\u001b[39m\u001b[39m\"\u001b[39m\u001b[39m_connect\u001b[39m\u001b[39m\"\u001b[39m)\n",
      "File \u001b[0;32m~/miniconda3/envs/Ml_Base/lib/python3.9/site-packages/neo4j/_sync/work/workspace.py:178\u001b[0m, in \u001b[0;36mWorkspace._connect\u001b[0;34m(self, access_mode, auth, **acquire_kwargs)\u001b[0m\n\u001b[1;32m    169\u001b[0m acquire_kwargs_ \u001b[39m=\u001b[39m {\n\u001b[1;32m    170\u001b[0m     \u001b[39m\"\u001b[39m\u001b[39maccess_mode\u001b[39m\u001b[39m\"\u001b[39m: access_mode,\n\u001b[1;32m    171\u001b[0m     \u001b[39m\"\u001b[39m\u001b[39mtimeout\u001b[39m\u001b[39m\"\u001b[39m: acquisition_timeout,\n\u001b[0;32m   (...)\u001b[0m\n\u001b[1;32m    175\u001b[0m     \u001b[39m\"\u001b[39m\u001b[39mliveness_check_timeout\u001b[39m\u001b[39m\"\u001b[39m: \u001b[39mNone\u001b[39;00m,\n\u001b[1;32m    176\u001b[0m }\n\u001b[1;32m    177\u001b[0m acquire_kwargs_\u001b[39m.\u001b[39mupdate(acquire_kwargs)\n\u001b[0;32m--> 178\u001b[0m \u001b[39mself\u001b[39m\u001b[39m.\u001b[39m_connection \u001b[39m=\u001b[39m \u001b[39mself\u001b[39;49m\u001b[39m.\u001b[39;49m_pool\u001b[39m.\u001b[39;49macquire(\u001b[39m*\u001b[39;49m\u001b[39m*\u001b[39;49macquire_kwargs_)\n\u001b[1;32m    179\u001b[0m \u001b[39mself\u001b[39m\u001b[39m.\u001b[39m_connection_access_mode \u001b[39m=\u001b[39m access_mode\n",
      "File \u001b[0;32m~/miniconda3/envs/Ml_Base/lib/python3.9/site-packages/neo4j/_sync/io/_pool.py:527\u001b[0m, in \u001b[0;36mBoltPool.acquire\u001b[0;34m(self, access_mode, timeout, database, bookmarks, auth, liveness_check_timeout)\u001b[0m\n\u001b[1;32m    524\u001b[0m log\u001b[39m.\u001b[39mdebug(\u001b[39m\"\u001b[39m\u001b[39m[#0000]  _: <POOL> acquire direct connection, \u001b[39m\u001b[39m\"\u001b[39m\n\u001b[1;32m    525\u001b[0m           \u001b[39m\"\u001b[39m\u001b[39maccess_mode=\u001b[39m\u001b[39m%r\u001b[39;00m\u001b[39m, database=\u001b[39m\u001b[39m%r\u001b[39;00m\u001b[39m\"\u001b[39m, access_mode, database)\n\u001b[1;32m    526\u001b[0m deadline \u001b[39m=\u001b[39m Deadline\u001b[39m.\u001b[39mfrom_timeout_or_deadline(timeout)\n\u001b[0;32m--> 527\u001b[0m \u001b[39mreturn\u001b[39;00m \u001b[39mself\u001b[39;49m\u001b[39m.\u001b[39;49m_acquire(\n\u001b[1;32m    528\u001b[0m     \u001b[39mself\u001b[39;49m\u001b[39m.\u001b[39;49maddress, auth, deadline, liveness_check_timeout\n\u001b[1;32m    529\u001b[0m )\n",
      "File \u001b[0;32m~/miniconda3/envs/Ml_Base/lib/python3.9/site-packages/neo4j/_sync/io/_pool.py:314\u001b[0m, in \u001b[0;36mIOPool._acquire\u001b[0;34m(self, address, auth, deadline, liveness_check_timeout)\u001b[0m\n\u001b[1;32m    309\u001b[0m             \u001b[39mraise\u001b[39;00m ClientError(\n\u001b[1;32m    310\u001b[0m                 \u001b[39m\"\u001b[39m\u001b[39mfailed to obtain a connection from the pool within \u001b[39m\u001b[39m\"\u001b[39m\n\u001b[1;32m    311\u001b[0m                 \u001b[39m\"\u001b[39m\u001b[39m{!r}\u001b[39;00m\u001b[39ms (timeout)\u001b[39m\u001b[39m\"\u001b[39m\u001b[39m.\u001b[39mformat(deadline\u001b[39m.\u001b[39moriginal_timeout)\n\u001b[1;32m    312\u001b[0m             )\n\u001b[1;32m    313\u001b[0m log\u001b[39m.\u001b[39mdebug(\u001b[39m\"\u001b[39m\u001b[39m[#0000]  _: <POOL> trying to hand out new connection\u001b[39m\u001b[39m\"\u001b[39m)\n\u001b[0;32m--> 314\u001b[0m \u001b[39mreturn\u001b[39;00m connection_creator()\n",
      "File \u001b[0;32m~/miniconda3/envs/Ml_Base/lib/python3.9/site-packages/neo4j/_sync/io/_pool.py:166\u001b[0m, in \u001b[0;36mIOPool._acquire_new_later.<locals>.connection_creator\u001b[0;34m()\u001b[0m\n\u001b[1;32m    164\u001b[0m \u001b[39mtry\u001b[39;00m:\n\u001b[1;32m    165\u001b[0m     \u001b[39mtry\u001b[39;00m:\n\u001b[0;32m--> 166\u001b[0m         connection \u001b[39m=\u001b[39m \u001b[39mself\u001b[39;49m\u001b[39m.\u001b[39;49mopener(\n\u001b[1;32m    167\u001b[0m             address, auth \u001b[39mor\u001b[39;49;00m \u001b[39mself\u001b[39;49m\u001b[39m.\u001b[39;49mpool_config\u001b[39m.\u001b[39;49mauth, deadline\n\u001b[1;32m    168\u001b[0m         )\n\u001b[1;32m    169\u001b[0m     \u001b[39mexcept\u001b[39;00m ServiceUnavailable:\n\u001b[1;32m    170\u001b[0m         \u001b[39mself\u001b[39m\u001b[39m.\u001b[39mdeactivate(address)\n",
      "File \u001b[0;32m~/miniconda3/envs/Ml_Base/lib/python3.9/site-packages/neo4j/_sync/io/_pool.py:501\u001b[0m, in \u001b[0;36mBoltPool.open.<locals>.opener\u001b[0;34m(addr, auth_manager, deadline)\u001b[0m\n\u001b[1;32m    500\u001b[0m \u001b[39mdef\u001b[39;00m \u001b[39mopener\u001b[39m(addr, auth_manager, deadline):\n\u001b[0;32m--> 501\u001b[0m     \u001b[39mreturn\u001b[39;00m Bolt\u001b[39m.\u001b[39;49mopen(\n\u001b[1;32m    502\u001b[0m         addr, auth_manager\u001b[39m=\u001b[39;49mauth_manager, deadline\u001b[39m=\u001b[39;49mdeadline,\n\u001b[1;32m    503\u001b[0m         routing_context\u001b[39m=\u001b[39;49m\u001b[39mNone\u001b[39;49;00m, pool_config\u001b[39m=\u001b[39;49mpool_config\n\u001b[1;32m    504\u001b[0m     )\n",
      "File \u001b[0;32m~/miniconda3/envs/Ml_Base/lib/python3.9/site-packages/neo4j/_sync/io/_bolt.py:464\u001b[0m, in \u001b[0;36mBolt.open\u001b[0;34m(cls, address, auth_manager, deadline, routing_context, pool_config)\u001b[0m\n\u001b[1;32m    462\u001b[0m connection\u001b[39m.\u001b[39msocket\u001b[39m.\u001b[39mset_deadline(deadline)\n\u001b[1;32m    463\u001b[0m \u001b[39mtry\u001b[39;00m:\n\u001b[0;32m--> 464\u001b[0m     connection\u001b[39m.\u001b[39;49mhello()\n\u001b[1;32m    465\u001b[0m \u001b[39mfinally\u001b[39;00m:\n\u001b[1;32m    466\u001b[0m     connection\u001b[39m.\u001b[39msocket\u001b[39m.\u001b[39mset_deadline(\u001b[39mNone\u001b[39;00m)\n",
      "File \u001b[0;32m~/miniconda3/envs/Ml_Base/lib/python3.9/site-packages/neo4j/_sync/io/_bolt5.py:147\u001b[0m, in \u001b[0;36mBolt5x0.hello\u001b[0;34m(self, dehydration_hooks, hydration_hooks)\u001b[0m\n\u001b[1;32m    142\u001b[0m \u001b[39mself\u001b[39m\u001b[39m.\u001b[39m_append(\u001b[39mb\u001b[39m\u001b[39m\"\u001b[39m\u001b[39m\\x01\u001b[39;00m\u001b[39m\"\u001b[39m, (headers,),\n\u001b[1;32m    143\u001b[0m              response\u001b[39m=\u001b[39mInitResponse(\u001b[39mself\u001b[39m, \u001b[39m\"\u001b[39m\u001b[39mhello\u001b[39m\u001b[39m\"\u001b[39m, hydration_hooks,\n\u001b[1;32m    144\u001b[0m                                    on_success\u001b[39m=\u001b[39mon_success),\n\u001b[1;32m    145\u001b[0m              dehydration_hooks\u001b[39m=\u001b[39mdehydration_hooks)\n\u001b[1;32m    146\u001b[0m \u001b[39mself\u001b[39m\u001b[39m.\u001b[39msend_all()\n\u001b[0;32m--> 147\u001b[0m \u001b[39mself\u001b[39;49m\u001b[39m.\u001b[39;49mfetch_all()\n\u001b[1;32m    148\u001b[0m check_supported_server_product(\u001b[39mself\u001b[39m\u001b[39m.\u001b[39mserver_info\u001b[39m.\u001b[39magent)\n",
      "File \u001b[0;32m~/miniconda3/envs/Ml_Base/lib/python3.9/site-packages/neo4j/_sync/io/_bolt.py:822\u001b[0m, in \u001b[0;36mBolt.fetch_all\u001b[0;34m(self)\u001b[0m\n\u001b[1;32m    820\u001b[0m response \u001b[39m=\u001b[39m \u001b[39mself\u001b[39m\u001b[39m.\u001b[39mresponses[\u001b[39m0\u001b[39m]\n\u001b[1;32m    821\u001b[0m \u001b[39mwhile\u001b[39;00m \u001b[39mnot\u001b[39;00m response\u001b[39m.\u001b[39mcomplete:\n\u001b[0;32m--> 822\u001b[0m     detail_delta, summary_delta \u001b[39m=\u001b[39m \u001b[39mself\u001b[39;49m\u001b[39m.\u001b[39;49mfetch_message()\n\u001b[1;32m    823\u001b[0m     detail_count \u001b[39m+\u001b[39m\u001b[39m=\u001b[39m detail_delta\n\u001b[1;32m    824\u001b[0m     summary_count \u001b[39m+\u001b[39m\u001b[39m=\u001b[39m summary_delta\n",
      "File \u001b[0;32m~/miniconda3/envs/Ml_Base/lib/python3.9/site-packages/neo4j/_sync/io/_bolt.py:808\u001b[0m, in \u001b[0;36mBolt.fetch_message\u001b[0;34m(self)\u001b[0m\n\u001b[1;32m    804\u001b[0m \u001b[39m# Receive exactly one message\u001b[39;00m\n\u001b[1;32m    805\u001b[0m tag, fields \u001b[39m=\u001b[39m \u001b[39mself\u001b[39m\u001b[39m.\u001b[39minbox\u001b[39m.\u001b[39mpop(\n\u001b[1;32m    806\u001b[0m     hydration_hooks\u001b[39m=\u001b[39m\u001b[39mself\u001b[39m\u001b[39m.\u001b[39mresponses[\u001b[39m0\u001b[39m]\u001b[39m.\u001b[39mhydration_hooks\n\u001b[1;32m    807\u001b[0m )\n\u001b[0;32m--> 808\u001b[0m res \u001b[39m=\u001b[39m \u001b[39mself\u001b[39;49m\u001b[39m.\u001b[39;49m_process_message(tag, fields)\n\u001b[1;32m    809\u001b[0m \u001b[39mself\u001b[39m\u001b[39m.\u001b[39midle_since \u001b[39m=\u001b[39m perf_counter()\n\u001b[1;32m    810\u001b[0m \u001b[39mreturn\u001b[39;00m res\n",
      "File \u001b[0;32m~/miniconda3/envs/Ml_Base/lib/python3.9/site-packages/neo4j/_sync/io/_bolt5.py:361\u001b[0m, in \u001b[0;36mBolt5x0._process_message\u001b[0;34m(self, tag, fields)\u001b[0m\n\u001b[1;32m    359\u001b[0m \u001b[39mself\u001b[39m\u001b[39m.\u001b[39m_server_state_manager\u001b[39m.\u001b[39mstate \u001b[39m=\u001b[39m \u001b[39mself\u001b[39m\u001b[39m.\u001b[39mserver_states\u001b[39m.\u001b[39mFAILED\n\u001b[1;32m    360\u001b[0m \u001b[39mtry\u001b[39;00m:\n\u001b[0;32m--> 361\u001b[0m     response\u001b[39m.\u001b[39;49mon_failure(summary_metadata \u001b[39mor\u001b[39;49;00m {})\n\u001b[1;32m    362\u001b[0m \u001b[39mexcept\u001b[39;00m (ServiceUnavailable, DatabaseUnavailable):\n\u001b[1;32m    363\u001b[0m     \u001b[39mif\u001b[39;00m \u001b[39mself\u001b[39m\u001b[39m.\u001b[39mpool:\n",
      "File \u001b[0;32m~/miniconda3/envs/Ml_Base/lib/python3.9/site-packages/neo4j/_sync/io/_common.py:271\u001b[0m, in \u001b[0;36mInitResponse.on_failure\u001b[0;34m(self, metadata)\u001b[0m\n\u001b[1;32m    266\u001b[0m Util\u001b[39m.\u001b[39mcallback(handler)\n\u001b[1;32m    267\u001b[0m metadata[\u001b[39m\"\u001b[39m\u001b[39mmessage\u001b[39m\u001b[39m\"\u001b[39m] \u001b[39m=\u001b[39m metadata\u001b[39m.\u001b[39mget(\n\u001b[1;32m    268\u001b[0m     \u001b[39m\"\u001b[39m\u001b[39mmessage\u001b[39m\u001b[39m\"\u001b[39m,\n\u001b[1;32m    269\u001b[0m     \u001b[39m\"\u001b[39m\u001b[39mConnection initialisation failed due to an unknown error\u001b[39m\u001b[39m\"\u001b[39m\n\u001b[1;32m    270\u001b[0m )\n\u001b[0;32m--> 271\u001b[0m \u001b[39mraise\u001b[39;00m Neo4jError\u001b[39m.\u001b[39mhydrate(\u001b[39m*\u001b[39m\u001b[39m*\u001b[39mmetadata)\n",
      "\u001b[0;31mAuthError\u001b[0m: {code: Neo.ClientError.Security.Unauthorized} {message: The client is unauthorized due to authentication failure.}"
     ]
    }
   ],
   "source": [
    "# name of all persons\n",
    "with neo4j_driver.session() as session:\n",
    "    query = \"MATCH (p:Person) \" + \\\n",
    "            \"RETURN p.name \" + \\\n",
    "            \"ORDER BY p.name\"\n",
    "    result = session.run(query)\n",
    "    for r in result:\n",
    "        print(r[\"p.name\"])"
   ]
  },
  {
   "cell_type": "code",
   "execution_count": null,
   "metadata": {},
   "outputs": [],
   "source": []
  }
 ],
 "metadata": {
  "kernelspec": {
   "display_name": "Python 3",
   "language": "python",
   "name": "python3"
  },
  "language_info": {
   "codemirror_mode": {
    "name": "ipython",
    "version": 3
   },
   "file_extension": ".py",
   "mimetype": "text/x-python",
   "name": "python",
   "nbconvert_exporter": "python",
   "pygments_lexer": "ipython3",
   "version": "3.9.16"
  }
 },
 "nbformat": 4,
 "nbformat_minor": 2
}
